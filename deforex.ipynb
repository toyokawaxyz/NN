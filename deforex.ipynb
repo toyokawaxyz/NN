{
  "nbformat": 4,
  "nbformat_minor": 0,
  "metadata": {
    "colab": {
      "name": "deforex.ipynb",
      "provenance": [],
      "mount_file_id": "1OwKFAbhkIEWd7PZUZZ1JQUR5BI_8n_nj",
      "authorship_tag": "ABX9TyMSU6hj/46Pbqi4gZrGthS8",
      "include_colab_link": true
    },
    "kernelspec": {
      "name": "python3",
      "display_name": "Python 3"
    }
  },
  "cells": [
    {
      "cell_type": "markdown",
      "metadata": {
        "id": "view-in-github",
        "colab_type": "text"
      },
      "source": [
        "<a href=\"https://colab.research.google.com/github/toyokawaxyz/NN/blob/master/deforex.ipynb\" target=\"_parent\"><img src=\"https://colab.research.google.com/assets/colab-badge.svg\" alt=\"Open In Colab\"/></a>"
      ]
    },
    {
      "cell_type": "code",
      "metadata": {
        "id": "QfSRZa3bUCsa",
        "colab_type": "code",
        "colab": {}
      },
      "source": [
        "def pi():\n",
        "  !pip install oandapyV20\n",
        "\n",
        "\n",
        "\n",
        "\n",
        "\n",
        "def imp():\n",
        "\n",
        "  import pandas as pd\n",
        "  import numpy as np\n",
        "  import seaborn as sns\n",
        "  import matplotlib.pyplot as plt\n",
        "  import oandapyV20\n",
        "  from oandapyV20 import API\n",
        "  import configparser\n",
        "  import pytz\n",
        "  import datetime\n",
        "  from datetime import datetime, timedelta\n",
        "    \n",
        "def timeshift(iso):\n",
        "     date = None\n",
        "     try:\n",
        "         date = datetime.strptime(iso, '%Y-%m-%dT%H:%M:%S.%fZ')\n",
        "         date = pytz.utc.localize(date).astimezone(pytz.timezone(\"Asia/Tokyo\"))\n",
        "     except ValueError:\n",
        "         try:\n",
        "             date = datetime.strptime(iso, '%Y-%m-%dT%H:%M:%S.%f%z')\n",
        "             date = dt.astimezone(pytz.timezone(\"Asia/Tokyo\"))\n",
        "         except ValueError:\n",
        "             pass\n",
        "     return date\n",
        "\n"
      ],
      "execution_count": 0,
      "outputs": []
    },
    {
      "cell_type": "code",
      "metadata": {
        "id": "vJ9YEUpVa5of",
        "colab_type": "code",
        "colab": {}
      },
      "source": [
        ""
      ],
      "execution_count": 0,
      "outputs": []
    }
  ]
}